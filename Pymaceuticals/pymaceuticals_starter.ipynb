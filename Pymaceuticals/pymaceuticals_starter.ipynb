{
 "cells": [
  {
   "cell_type": "markdown",
   "metadata": {},
   "source": [
    "## Observations and Insights "
   ]
  },
  {
   "cell_type": "markdown",
   "metadata": {},
   "source": []
  },
  {
   "cell_type": "code",
   "execution_count": 1,
   "metadata": {},
   "outputs": [
    {
     "data": {
      "text/html": [
       "<div>\n",
       "<style scoped>\n",
       "    .dataframe tbody tr th:only-of-type {\n",
       "        vertical-align: middle;\n",
       "    }\n",
       "\n",
       "    .dataframe tbody tr th {\n",
       "        vertical-align: top;\n",
       "    }\n",
       "\n",
       "    .dataframe thead th {\n",
       "        text-align: right;\n",
       "    }\n",
       "</style>\n",
       "<table border=\"1\" class=\"dataframe\">\n",
       "  <thead>\n",
       "    <tr style=\"text-align: right;\">\n",
       "      <th></th>\n",
       "      <th>Mouse ID</th>\n",
       "      <th>Drug Regimen</th>\n",
       "      <th>Sex</th>\n",
       "      <th>Age_months</th>\n",
       "      <th>Weight (g)</th>\n",
       "      <th>Timepoint</th>\n",
       "      <th>Tumor Volume (mm3)</th>\n",
       "      <th>Metastatic Sites</th>\n",
       "    </tr>\n",
       "  </thead>\n",
       "  <tbody>\n",
       "    <tr>\n",
       "      <th>0</th>\n",
       "      <td>k403</td>\n",
       "      <td>Ramicane</td>\n",
       "      <td>Male</td>\n",
       "      <td>21</td>\n",
       "      <td>16</td>\n",
       "      <td>0</td>\n",
       "      <td>45.000000</td>\n",
       "      <td>0</td>\n",
       "    </tr>\n",
       "    <tr>\n",
       "      <th>1</th>\n",
       "      <td>k403</td>\n",
       "      <td>Ramicane</td>\n",
       "      <td>Male</td>\n",
       "      <td>21</td>\n",
       "      <td>16</td>\n",
       "      <td>5</td>\n",
       "      <td>38.825898</td>\n",
       "      <td>0</td>\n",
       "    </tr>\n",
       "    <tr>\n",
       "      <th>2</th>\n",
       "      <td>k403</td>\n",
       "      <td>Ramicane</td>\n",
       "      <td>Male</td>\n",
       "      <td>21</td>\n",
       "      <td>16</td>\n",
       "      <td>10</td>\n",
       "      <td>35.014271</td>\n",
       "      <td>1</td>\n",
       "    </tr>\n",
       "    <tr>\n",
       "      <th>3</th>\n",
       "      <td>k403</td>\n",
       "      <td>Ramicane</td>\n",
       "      <td>Male</td>\n",
       "      <td>21</td>\n",
       "      <td>16</td>\n",
       "      <td>15</td>\n",
       "      <td>34.223992</td>\n",
       "      <td>1</td>\n",
       "    </tr>\n",
       "    <tr>\n",
       "      <th>4</th>\n",
       "      <td>k403</td>\n",
       "      <td>Ramicane</td>\n",
       "      <td>Male</td>\n",
       "      <td>21</td>\n",
       "      <td>16</td>\n",
       "      <td>20</td>\n",
       "      <td>32.997729</td>\n",
       "      <td>1</td>\n",
       "    </tr>\n",
       "  </tbody>\n",
       "</table>\n",
       "</div>"
      ],
      "text/plain": [
       "  Mouse ID Drug Regimen   Sex  Age_months  Weight (g)  Timepoint  \\\n",
       "0     k403     Ramicane  Male          21          16          0   \n",
       "1     k403     Ramicane  Male          21          16          5   \n",
       "2     k403     Ramicane  Male          21          16         10   \n",
       "3     k403     Ramicane  Male          21          16         15   \n",
       "4     k403     Ramicane  Male          21          16         20   \n",
       "\n",
       "   Tumor Volume (mm3)  Metastatic Sites  \n",
       "0           45.000000                 0  \n",
       "1           38.825898                 0  \n",
       "2           35.014271                 1  \n",
       "3           34.223992                 1  \n",
       "4           32.997729                 1  "
      ]
     },
     "execution_count": 1,
     "metadata": {},
     "output_type": "execute_result"
    }
   ],
   "source": [
    "# Dependencies and Setup\n",
    "import matplotlib.pyplot as plt\n",
    "import pandas as pd\n",
    "import numpy as np\n",
    "import scipy.stats as st\n",
    "from scipy.stats import linregress\n",
    "\n",
    "# Study data files\n",
    "mouse_metadata_path = \"data/Mouse_metadata.csv\"\n",
    "study_results_path = \"data/Study_results.csv\"\n",
    "\n",
    "# Read the mouse data and the study results\n",
    "mouse_metadata = pd.read_csv(mouse_metadata_path)\n",
    "study_results = pd.read_csv(study_results_path)\n",
    "\n",
    "# Combine the data into a single dataset\n",
    "combined_data_df = pd.merge(mouse_metadata, study_results,\n",
    "                                 on=\"Mouse ID\")\n",
    "\n",
    "# Display the data table for preview\n",
    "combined_data_df.head()"
   ]
  },
  {
   "cell_type": "code",
   "execution_count": 2,
   "metadata": {},
   "outputs": [
    {
     "data": {
      "text/plain": [
       "1893"
      ]
     },
     "execution_count": 2,
     "metadata": {},
     "output_type": "execute_result"
    }
   ],
   "source": [
    "# Check the number of mice.\n",
    "mouse_count = combined_data_df[\"Mouse ID\"].count()\n",
    "mouse_count"
   ]
  },
  {
   "cell_type": "code",
   "execution_count": 3,
   "metadata": {
    "scrolled": false
   },
   "outputs": [
    {
     "data": {
      "text/plain": [
       "Mouse ID  Timepoint\n",
       "g989      15           2\n",
       "          0            2\n",
       "          10           2\n",
       "          5            2\n",
       "          20           2\n",
       "                      ..\n",
       "q610      30           1\n",
       "          35           1\n",
       "q633      0            1\n",
       "          5            1\n",
       "a203      0            1\n",
       "Length: 1888, dtype: int64"
      ]
     },
     "execution_count": 3,
     "metadata": {},
     "output_type": "execute_result"
    }
   ],
   "source": [
    "# Get the duplicate mice by ID number that shows up for Mouse ID and Timepoint. \n",
    "duplicate_mouse = combined_data_df[[\"Mouse ID\", \"Timepoint\"]].value_counts()\n",
    "duplicate_mouse"
   ]
  },
  {
   "cell_type": "code",
   "execution_count": 4,
   "metadata": {},
   "outputs": [
    {
     "data": {
      "text/html": [
       "<div>\n",
       "<style scoped>\n",
       "    .dataframe tbody tr th:only-of-type {\n",
       "        vertical-align: middle;\n",
       "    }\n",
       "\n",
       "    .dataframe tbody tr th {\n",
       "        vertical-align: top;\n",
       "    }\n",
       "\n",
       "    .dataframe thead th {\n",
       "        text-align: right;\n",
       "    }\n",
       "</style>\n",
       "<table border=\"1\" class=\"dataframe\">\n",
       "  <thead>\n",
       "    <tr style=\"text-align: right;\">\n",
       "      <th></th>\n",
       "      <th>Mouse ID</th>\n",
       "      <th>Drug Regimen</th>\n",
       "      <th>Sex</th>\n",
       "      <th>Age_months</th>\n",
       "      <th>Weight (g)</th>\n",
       "      <th>Timepoint</th>\n",
       "      <th>Tumor Volume (mm3)</th>\n",
       "      <th>Metastatic Sites</th>\n",
       "    </tr>\n",
       "  </thead>\n",
       "  <tbody>\n",
       "    <tr>\n",
       "      <th>908</th>\n",
       "      <td>g989</td>\n",
       "      <td>Propriva</td>\n",
       "      <td>Female</td>\n",
       "      <td>21</td>\n",
       "      <td>26</td>\n",
       "      <td>0</td>\n",
       "      <td>45.000000</td>\n",
       "      <td>0</td>\n",
       "    </tr>\n",
       "    <tr>\n",
       "      <th>909</th>\n",
       "      <td>g989</td>\n",
       "      <td>Propriva</td>\n",
       "      <td>Female</td>\n",
       "      <td>21</td>\n",
       "      <td>26</td>\n",
       "      <td>0</td>\n",
       "      <td>45.000000</td>\n",
       "      <td>0</td>\n",
       "    </tr>\n",
       "    <tr>\n",
       "      <th>910</th>\n",
       "      <td>g989</td>\n",
       "      <td>Propriva</td>\n",
       "      <td>Female</td>\n",
       "      <td>21</td>\n",
       "      <td>26</td>\n",
       "      <td>5</td>\n",
       "      <td>48.786801</td>\n",
       "      <td>0</td>\n",
       "    </tr>\n",
       "    <tr>\n",
       "      <th>911</th>\n",
       "      <td>g989</td>\n",
       "      <td>Propriva</td>\n",
       "      <td>Female</td>\n",
       "      <td>21</td>\n",
       "      <td>26</td>\n",
       "      <td>5</td>\n",
       "      <td>47.570392</td>\n",
       "      <td>0</td>\n",
       "    </tr>\n",
       "    <tr>\n",
       "      <th>912</th>\n",
       "      <td>g989</td>\n",
       "      <td>Propriva</td>\n",
       "      <td>Female</td>\n",
       "      <td>21</td>\n",
       "      <td>26</td>\n",
       "      <td>10</td>\n",
       "      <td>51.745156</td>\n",
       "      <td>0</td>\n",
       "    </tr>\n",
       "    <tr>\n",
       "      <th>913</th>\n",
       "      <td>g989</td>\n",
       "      <td>Propriva</td>\n",
       "      <td>Female</td>\n",
       "      <td>21</td>\n",
       "      <td>26</td>\n",
       "      <td>10</td>\n",
       "      <td>49.880528</td>\n",
       "      <td>0</td>\n",
       "    </tr>\n",
       "    <tr>\n",
       "      <th>914</th>\n",
       "      <td>g989</td>\n",
       "      <td>Propriva</td>\n",
       "      <td>Female</td>\n",
       "      <td>21</td>\n",
       "      <td>26</td>\n",
       "      <td>15</td>\n",
       "      <td>51.325852</td>\n",
       "      <td>1</td>\n",
       "    </tr>\n",
       "    <tr>\n",
       "      <th>915</th>\n",
       "      <td>g989</td>\n",
       "      <td>Propriva</td>\n",
       "      <td>Female</td>\n",
       "      <td>21</td>\n",
       "      <td>26</td>\n",
       "      <td>15</td>\n",
       "      <td>53.442020</td>\n",
       "      <td>0</td>\n",
       "    </tr>\n",
       "    <tr>\n",
       "      <th>916</th>\n",
       "      <td>g989</td>\n",
       "      <td>Propriva</td>\n",
       "      <td>Female</td>\n",
       "      <td>21</td>\n",
       "      <td>26</td>\n",
       "      <td>20</td>\n",
       "      <td>55.326122</td>\n",
       "      <td>1</td>\n",
       "    </tr>\n",
       "    <tr>\n",
       "      <th>917</th>\n",
       "      <td>g989</td>\n",
       "      <td>Propriva</td>\n",
       "      <td>Female</td>\n",
       "      <td>21</td>\n",
       "      <td>26</td>\n",
       "      <td>20</td>\n",
       "      <td>54.657650</td>\n",
       "      <td>1</td>\n",
       "    </tr>\n",
       "    <tr>\n",
       "      <th>918</th>\n",
       "      <td>g989</td>\n",
       "      <td>Propriva</td>\n",
       "      <td>Female</td>\n",
       "      <td>21</td>\n",
       "      <td>26</td>\n",
       "      <td>25</td>\n",
       "      <td>56.045564</td>\n",
       "      <td>1</td>\n",
       "    </tr>\n",
       "    <tr>\n",
       "      <th>919</th>\n",
       "      <td>g989</td>\n",
       "      <td>Propriva</td>\n",
       "      <td>Female</td>\n",
       "      <td>21</td>\n",
       "      <td>26</td>\n",
       "      <td>30</td>\n",
       "      <td>59.082294</td>\n",
       "      <td>1</td>\n",
       "    </tr>\n",
       "    <tr>\n",
       "      <th>920</th>\n",
       "      <td>g989</td>\n",
       "      <td>Propriva</td>\n",
       "      <td>Female</td>\n",
       "      <td>21</td>\n",
       "      <td>26</td>\n",
       "      <td>35</td>\n",
       "      <td>62.570880</td>\n",
       "      <td>2</td>\n",
       "    </tr>\n",
       "  </tbody>\n",
       "</table>\n",
       "</div>"
      ],
      "text/plain": [
       "    Mouse ID Drug Regimen     Sex  Age_months  Weight (g)  Timepoint  \\\n",
       "908     g989     Propriva  Female          21          26          0   \n",
       "909     g989     Propriva  Female          21          26          0   \n",
       "910     g989     Propriva  Female          21          26          5   \n",
       "911     g989     Propriva  Female          21          26          5   \n",
       "912     g989     Propriva  Female          21          26         10   \n",
       "913     g989     Propriva  Female          21          26         10   \n",
       "914     g989     Propriva  Female          21          26         15   \n",
       "915     g989     Propriva  Female          21          26         15   \n",
       "916     g989     Propriva  Female          21          26         20   \n",
       "917     g989     Propriva  Female          21          26         20   \n",
       "918     g989     Propriva  Female          21          26         25   \n",
       "919     g989     Propriva  Female          21          26         30   \n",
       "920     g989     Propriva  Female          21          26         35   \n",
       "\n",
       "     Tumor Volume (mm3)  Metastatic Sites  \n",
       "908           45.000000                 0  \n",
       "909           45.000000                 0  \n",
       "910           48.786801                 0  \n",
       "911           47.570392                 0  \n",
       "912           51.745156                 0  \n",
       "913           49.880528                 0  \n",
       "914           51.325852                 1  \n",
       "915           53.442020                 0  \n",
       "916           55.326122                 1  \n",
       "917           54.657650                 1  \n",
       "918           56.045564                 1  \n",
       "919           59.082294                 1  \n",
       "920           62.570880                 2  "
      ]
     },
     "execution_count": 4,
     "metadata": {},
     "output_type": "execute_result"
    }
   ],
   "source": [
    "# Optional: Get all the data for the duplicate mouse ID. \n",
    "duplicate_mouse_df = combined_data_df.loc[combined_data_df[\"Mouse ID\"] == \"g989\", :]\n",
    "duplicate_mouse_df"
   ]
  },
  {
   "cell_type": "code",
   "execution_count": 5,
   "metadata": {
    "scrolled": false
   },
   "outputs": [],
   "source": [
    "# Create a clean DataFrame by dropping the duplicate mouse by its ID.\n",
    "clean_data_df = combined_data_df.drop_duplicates(subset=['Mouse ID','Timepoint'])"
   ]
  },
  {
   "cell_type": "code",
   "execution_count": 6,
   "metadata": {
    "scrolled": false
   },
   "outputs": [
    {
     "data": {
      "text/html": [
       "<div>\n",
       "<style scoped>\n",
       "    .dataframe tbody tr th:only-of-type {\n",
       "        vertical-align: middle;\n",
       "    }\n",
       "\n",
       "    .dataframe tbody tr th {\n",
       "        vertical-align: top;\n",
       "    }\n",
       "\n",
       "    .dataframe thead th {\n",
       "        text-align: right;\n",
       "    }\n",
       "</style>\n",
       "<table border=\"1\" class=\"dataframe\">\n",
       "  <thead>\n",
       "    <tr style=\"text-align: right;\">\n",
       "      <th></th>\n",
       "      <th>Mouse ID</th>\n",
       "      <th>Drug Regimen</th>\n",
       "      <th>Sex</th>\n",
       "      <th>Age_months</th>\n",
       "      <th>Weight (g)</th>\n",
       "      <th>Timepoint</th>\n",
       "      <th>Tumor Volume (mm3)</th>\n",
       "      <th>Metastatic Sites</th>\n",
       "    </tr>\n",
       "  </thead>\n",
       "  <tbody>\n",
       "    <tr>\n",
       "      <th>908</th>\n",
       "      <td>g989</td>\n",
       "      <td>Propriva</td>\n",
       "      <td>Female</td>\n",
       "      <td>21</td>\n",
       "      <td>26</td>\n",
       "      <td>0</td>\n",
       "      <td>45.000000</td>\n",
       "      <td>0</td>\n",
       "    </tr>\n",
       "    <tr>\n",
       "      <th>910</th>\n",
       "      <td>g989</td>\n",
       "      <td>Propriva</td>\n",
       "      <td>Female</td>\n",
       "      <td>21</td>\n",
       "      <td>26</td>\n",
       "      <td>5</td>\n",
       "      <td>48.786801</td>\n",
       "      <td>0</td>\n",
       "    </tr>\n",
       "    <tr>\n",
       "      <th>912</th>\n",
       "      <td>g989</td>\n",
       "      <td>Propriva</td>\n",
       "      <td>Female</td>\n",
       "      <td>21</td>\n",
       "      <td>26</td>\n",
       "      <td>10</td>\n",
       "      <td>51.745156</td>\n",
       "      <td>0</td>\n",
       "    </tr>\n",
       "    <tr>\n",
       "      <th>914</th>\n",
       "      <td>g989</td>\n",
       "      <td>Propriva</td>\n",
       "      <td>Female</td>\n",
       "      <td>21</td>\n",
       "      <td>26</td>\n",
       "      <td>15</td>\n",
       "      <td>51.325852</td>\n",
       "      <td>1</td>\n",
       "    </tr>\n",
       "    <tr>\n",
       "      <th>916</th>\n",
       "      <td>g989</td>\n",
       "      <td>Propriva</td>\n",
       "      <td>Female</td>\n",
       "      <td>21</td>\n",
       "      <td>26</td>\n",
       "      <td>20</td>\n",
       "      <td>55.326122</td>\n",
       "      <td>1</td>\n",
       "    </tr>\n",
       "    <tr>\n",
       "      <th>918</th>\n",
       "      <td>g989</td>\n",
       "      <td>Propriva</td>\n",
       "      <td>Female</td>\n",
       "      <td>21</td>\n",
       "      <td>26</td>\n",
       "      <td>25</td>\n",
       "      <td>56.045564</td>\n",
       "      <td>1</td>\n",
       "    </tr>\n",
       "    <tr>\n",
       "      <th>919</th>\n",
       "      <td>g989</td>\n",
       "      <td>Propriva</td>\n",
       "      <td>Female</td>\n",
       "      <td>21</td>\n",
       "      <td>26</td>\n",
       "      <td>30</td>\n",
       "      <td>59.082294</td>\n",
       "      <td>1</td>\n",
       "    </tr>\n",
       "    <tr>\n",
       "      <th>920</th>\n",
       "      <td>g989</td>\n",
       "      <td>Propriva</td>\n",
       "      <td>Female</td>\n",
       "      <td>21</td>\n",
       "      <td>26</td>\n",
       "      <td>35</td>\n",
       "      <td>62.570880</td>\n",
       "      <td>2</td>\n",
       "    </tr>\n",
       "  </tbody>\n",
       "</table>\n",
       "</div>"
      ],
      "text/plain": [
       "    Mouse ID Drug Regimen     Sex  Age_months  Weight (g)  Timepoint  \\\n",
       "908     g989     Propriva  Female          21          26          0   \n",
       "910     g989     Propriva  Female          21          26          5   \n",
       "912     g989     Propriva  Female          21          26         10   \n",
       "914     g989     Propriva  Female          21          26         15   \n",
       "916     g989     Propriva  Female          21          26         20   \n",
       "918     g989     Propriva  Female          21          26         25   \n",
       "919     g989     Propriva  Female          21          26         30   \n",
       "920     g989     Propriva  Female          21          26         35   \n",
       "\n",
       "     Tumor Volume (mm3)  Metastatic Sites  \n",
       "908           45.000000                 0  \n",
       "910           48.786801                 0  \n",
       "912           51.745156                 0  \n",
       "914           51.325852                 1  \n",
       "916           55.326122                 1  \n",
       "918           56.045564                 1  \n",
       "919           59.082294                 1  \n",
       "920           62.570880                 2  "
      ]
     },
     "execution_count": 6,
     "metadata": {},
     "output_type": "execute_result"
    }
   ],
   "source": [
    "#check to see if duplicate data has been dropped\n",
    "duplicate_mouse_df = clean_data_df.loc[clean_data_df[\"Mouse ID\"] == \"g989\", :]\n",
    "duplicate_mouse_df"
   ]
  },
  {
   "cell_type": "code",
   "execution_count": 7,
   "metadata": {},
   "outputs": [
    {
     "data": {
      "text/plain": [
       "1888"
      ]
     },
     "execution_count": 7,
     "metadata": {},
     "output_type": "execute_result"
    }
   ],
   "source": [
    "# Check the number of mice in the clean DataFrame.\n",
    "mouse_count = clean_data_df[\"Mouse ID\"].count()\n",
    "mouse_count"
   ]
  },
  {
   "cell_type": "markdown",
   "metadata": {},
   "source": [
    "## Summary Statistics"
   ]
  },
  {
   "cell_type": "code",
   "execution_count": 8,
   "metadata": {
    "scrolled": true
   },
   "outputs": [
    {
     "data": {
      "text/html": [
       "<div>\n",
       "<style scoped>\n",
       "    .dataframe tbody tr th:only-of-type {\n",
       "        vertical-align: middle;\n",
       "    }\n",
       "\n",
       "    .dataframe tbody tr th {\n",
       "        vertical-align: top;\n",
       "    }\n",
       "\n",
       "    .dataframe thead th {\n",
       "        text-align: right;\n",
       "    }\n",
       "</style>\n",
       "<table border=\"1\" class=\"dataframe\">\n",
       "  <thead>\n",
       "    <tr style=\"text-align: right;\">\n",
       "      <th></th>\n",
       "      <th>Mean</th>\n",
       "      <th>Median</th>\n",
       "      <th>Variance</th>\n",
       "      <th>Standard Deviation</th>\n",
       "      <th>SEM</th>\n",
       "    </tr>\n",
       "    <tr>\n",
       "      <th>Drug Regimen</th>\n",
       "      <th></th>\n",
       "      <th></th>\n",
       "      <th></th>\n",
       "      <th></th>\n",
       "      <th></th>\n",
       "    </tr>\n",
       "  </thead>\n",
       "  <tbody>\n",
       "    <tr>\n",
       "      <th>Capomulin</th>\n",
       "      <td>40.675741</td>\n",
       "      <td>41.557809</td>\n",
       "      <td>24.947764</td>\n",
       "      <td>4.994774</td>\n",
       "      <td>0.329346</td>\n",
       "    </tr>\n",
       "    <tr>\n",
       "      <th>Ceftamin</th>\n",
       "      <td>52.591172</td>\n",
       "      <td>51.776157</td>\n",
       "      <td>39.290177</td>\n",
       "      <td>6.268188</td>\n",
       "      <td>0.469821</td>\n",
       "    </tr>\n",
       "    <tr>\n",
       "      <th>Infubinol</th>\n",
       "      <td>52.884795</td>\n",
       "      <td>51.820584</td>\n",
       "      <td>43.128684</td>\n",
       "      <td>6.567243</td>\n",
       "      <td>0.492236</td>\n",
       "    </tr>\n",
       "    <tr>\n",
       "      <th>Ketapril</th>\n",
       "      <td>55.235638</td>\n",
       "      <td>53.698743</td>\n",
       "      <td>68.553577</td>\n",
       "      <td>8.279709</td>\n",
       "      <td>0.603860</td>\n",
       "    </tr>\n",
       "    <tr>\n",
       "      <th>Naftisol</th>\n",
       "      <td>54.331565</td>\n",
       "      <td>52.509285</td>\n",
       "      <td>66.173479</td>\n",
       "      <td>8.134708</td>\n",
       "      <td>0.596466</td>\n",
       "    </tr>\n",
       "    <tr>\n",
       "      <th>Placebo</th>\n",
       "      <td>54.033581</td>\n",
       "      <td>52.288934</td>\n",
       "      <td>61.168083</td>\n",
       "      <td>7.821003</td>\n",
       "      <td>0.581331</td>\n",
       "    </tr>\n",
       "    <tr>\n",
       "      <th>Propriva</th>\n",
       "      <td>52.393463</td>\n",
       "      <td>50.909965</td>\n",
       "      <td>43.138803</td>\n",
       "      <td>6.568014</td>\n",
       "      <td>0.525862</td>\n",
       "    </tr>\n",
       "    <tr>\n",
       "      <th>Ramicane</th>\n",
       "      <td>40.216745</td>\n",
       "      <td>40.673236</td>\n",
       "      <td>23.486704</td>\n",
       "      <td>4.846308</td>\n",
       "      <td>0.320955</td>\n",
       "    </tr>\n",
       "    <tr>\n",
       "      <th>Stelasyn</th>\n",
       "      <td>54.233149</td>\n",
       "      <td>52.431737</td>\n",
       "      <td>59.450562</td>\n",
       "      <td>7.710419</td>\n",
       "      <td>0.573111</td>\n",
       "    </tr>\n",
       "    <tr>\n",
       "      <th>Zoniferol</th>\n",
       "      <td>53.236507</td>\n",
       "      <td>51.818479</td>\n",
       "      <td>48.533355</td>\n",
       "      <td>6.966589</td>\n",
       "      <td>0.516398</td>\n",
       "    </tr>\n",
       "  </tbody>\n",
       "</table>\n",
       "</div>"
      ],
      "text/plain": [
       "                   Mean     Median   Variance  Standard Deviation       SEM\n",
       "Drug Regimen                                                               \n",
       "Capomulin     40.675741  41.557809  24.947764            4.994774  0.329346\n",
       "Ceftamin      52.591172  51.776157  39.290177            6.268188  0.469821\n",
       "Infubinol     52.884795  51.820584  43.128684            6.567243  0.492236\n",
       "Ketapril      55.235638  53.698743  68.553577            8.279709  0.603860\n",
       "Naftisol      54.331565  52.509285  66.173479            8.134708  0.596466\n",
       "Placebo       54.033581  52.288934  61.168083            7.821003  0.581331\n",
       "Propriva      52.393463  50.909965  43.138803            6.568014  0.525862\n",
       "Ramicane      40.216745  40.673236  23.486704            4.846308  0.320955\n",
       "Stelasyn      54.233149  52.431737  59.450562            7.710419  0.573111\n",
       "Zoniferol     53.236507  51.818479  48.533355            6.966589  0.516398"
      ]
     },
     "execution_count": 8,
     "metadata": {},
     "output_type": "execute_result"
    }
   ],
   "source": [
    "# Generate a summary statistics table of mean, median, variance, standard deviation, and SEM of the tumor volume for each regimen\n",
    "\n",
    "# Use groupby and summary statistical methods to calculate the following properties of each drug regimen: \n",
    "\n",
    "# mean, median, variance, standard deviation, and SEM of the tumor volume. \n",
    "\n",
    "#groupby\n",
    "drug_grouped = clean_data_df.groupby([\"Drug Regimen\"])\n",
    "#mean\n",
    "tumor_mean = drug_grouped[\"Tumor Volume (mm3)\"].mean()\n",
    "#median\n",
    "tumor_median = drug_grouped[\"Tumor Volume (mm3)\"].median()\n",
    "#variance\n",
    "tumor_variance = drug_grouped[\"Tumor Volume (mm3)\"].var()\n",
    "#standard deviation\n",
    "tumor_std = drug_grouped[\"Tumor Volume (mm3)\"].std()\n",
    "#SEM\n",
    "tumor_sem = drug_grouped[\"Tumor Volume (mm3)\"].sem()\n",
    "\n",
    "#summary table\n",
    "summary_stats = pd.DataFrame({\"Mean\": tumor_mean, \n",
    "                              \"Median\":tumor_median, \n",
    "                              \"Variance\":tumor_variance, \n",
    "                              \"Standard Deviation\": tumor_std, \n",
    "                              \"SEM\": tumor_sem})\n",
    "summary_stats"
   ]
  },
  {
   "cell_type": "code",
   "execution_count": 9,
   "metadata": {
    "scrolled": true
   },
   "outputs": [
    {
     "data": {
      "text/html": [
       "<div>\n",
       "<style scoped>\n",
       "    .dataframe tbody tr th:only-of-type {\n",
       "        vertical-align: middle;\n",
       "    }\n",
       "\n",
       "    .dataframe tbody tr th {\n",
       "        vertical-align: top;\n",
       "    }\n",
       "\n",
       "    .dataframe thead th {\n",
       "        text-align: right;\n",
       "    }\n",
       "</style>\n",
       "<table border=\"1\" class=\"dataframe\">\n",
       "  <thead>\n",
       "    <tr style=\"text-align: right;\">\n",
       "      <th></th>\n",
       "      <th>mean</th>\n",
       "      <th>median</th>\n",
       "      <th>var</th>\n",
       "      <th>std</th>\n",
       "      <th>sem</th>\n",
       "    </tr>\n",
       "    <tr>\n",
       "      <th>Drug Regimen</th>\n",
       "      <th></th>\n",
       "      <th></th>\n",
       "      <th></th>\n",
       "      <th></th>\n",
       "      <th></th>\n",
       "    </tr>\n",
       "  </thead>\n",
       "  <tbody>\n",
       "    <tr>\n",
       "      <th>Capomulin</th>\n",
       "      <td>40.675741</td>\n",
       "      <td>41.557809</td>\n",
       "      <td>24.947764</td>\n",
       "      <td>4.994774</td>\n",
       "      <td>0.329346</td>\n",
       "    </tr>\n",
       "    <tr>\n",
       "      <th>Ceftamin</th>\n",
       "      <td>52.591172</td>\n",
       "      <td>51.776157</td>\n",
       "      <td>39.290177</td>\n",
       "      <td>6.268188</td>\n",
       "      <td>0.469821</td>\n",
       "    </tr>\n",
       "    <tr>\n",
       "      <th>Infubinol</th>\n",
       "      <td>52.884795</td>\n",
       "      <td>51.820584</td>\n",
       "      <td>43.128684</td>\n",
       "      <td>6.567243</td>\n",
       "      <td>0.492236</td>\n",
       "    </tr>\n",
       "    <tr>\n",
       "      <th>Ketapril</th>\n",
       "      <td>55.235638</td>\n",
       "      <td>53.698743</td>\n",
       "      <td>68.553577</td>\n",
       "      <td>8.279709</td>\n",
       "      <td>0.603860</td>\n",
       "    </tr>\n",
       "    <tr>\n",
       "      <th>Naftisol</th>\n",
       "      <td>54.331565</td>\n",
       "      <td>52.509285</td>\n",
       "      <td>66.173479</td>\n",
       "      <td>8.134708</td>\n",
       "      <td>0.596466</td>\n",
       "    </tr>\n",
       "    <tr>\n",
       "      <th>Placebo</th>\n",
       "      <td>54.033581</td>\n",
       "      <td>52.288934</td>\n",
       "      <td>61.168083</td>\n",
       "      <td>7.821003</td>\n",
       "      <td>0.581331</td>\n",
       "    </tr>\n",
       "    <tr>\n",
       "      <th>Propriva</th>\n",
       "      <td>52.393463</td>\n",
       "      <td>50.909965</td>\n",
       "      <td>43.138803</td>\n",
       "      <td>6.568014</td>\n",
       "      <td>0.525862</td>\n",
       "    </tr>\n",
       "    <tr>\n",
       "      <th>Ramicane</th>\n",
       "      <td>40.216745</td>\n",
       "      <td>40.673236</td>\n",
       "      <td>23.486704</td>\n",
       "      <td>4.846308</td>\n",
       "      <td>0.320955</td>\n",
       "    </tr>\n",
       "    <tr>\n",
       "      <th>Stelasyn</th>\n",
       "      <td>54.233149</td>\n",
       "      <td>52.431737</td>\n",
       "      <td>59.450562</td>\n",
       "      <td>7.710419</td>\n",
       "      <td>0.573111</td>\n",
       "    </tr>\n",
       "    <tr>\n",
       "      <th>Zoniferol</th>\n",
       "      <td>53.236507</td>\n",
       "      <td>51.818479</td>\n",
       "      <td>48.533355</td>\n",
       "      <td>6.966589</td>\n",
       "      <td>0.516398</td>\n",
       "    </tr>\n",
       "  </tbody>\n",
       "</table>\n",
       "</div>"
      ],
      "text/plain": [
       "                   mean     median        var       std       sem\n",
       "Drug Regimen                                                     \n",
       "Capomulin     40.675741  41.557809  24.947764  4.994774  0.329346\n",
       "Ceftamin      52.591172  51.776157  39.290177  6.268188  0.469821\n",
       "Infubinol     52.884795  51.820584  43.128684  6.567243  0.492236\n",
       "Ketapril      55.235638  53.698743  68.553577  8.279709  0.603860\n",
       "Naftisol      54.331565  52.509285  66.173479  8.134708  0.596466\n",
       "Placebo       54.033581  52.288934  61.168083  7.821003  0.581331\n",
       "Propriva      52.393463  50.909965  43.138803  6.568014  0.525862\n",
       "Ramicane      40.216745  40.673236  23.486704  4.846308  0.320955\n",
       "Stelasyn      54.233149  52.431737  59.450562  7.710419  0.573111\n",
       "Zoniferol     53.236507  51.818479  48.533355  6.966589  0.516398"
      ]
     },
     "execution_count": 9,
     "metadata": {},
     "output_type": "execute_result"
    }
   ],
   "source": [
    "# Generate a summary statistics table of mean, median, variance, standard deviation, and SEM of the tumor volume for each regimen\n",
    "\n",
    "#groupby drug regimen\n",
    "group_by_agg = clean_data_df.groupby([\"Drug Regimen\"])\n",
    "\n",
    "# Using the aggregation method, produce the same summary statistics in a single line\n",
    "summary_table_agg = group_by_agg.agg(['mean', 'median', 'var', 'std', 'sem'])[\"Tumor Volume (mm3)\"]\n",
    "summary_table_agg"
   ]
  },
  {
   "cell_type": "markdown",
   "metadata": {},
   "source": [
    "## Bar and Pie Charts"
   ]
  },
  {
   "cell_type": "code",
   "execution_count": 10,
   "metadata": {
    "scrolled": true
   },
   "outputs": [
    {
     "data": {
      "image/png": "[encoded data removed]",
      "text/plain": [
       "<Figure size 1080x216 with 1 Axes>"
      ]
     },
     "metadata": {
      "needs_background": "light"
     },
     "output_type": "display_data"
    }
   ],
   "source": [
    "# Generate a bar plot showing the total number of unique mice tested on each drug regimen using pandas.\n",
    "totalmice_perdrug = clean_data_df.groupby([\"Drug Regimen\"]).count()[\"Mouse ID\"]\n",
    "totalmice_perdrug\n",
    "\n",
    "\n",
    "#pandas bar plot with labels/size/color/rotation\n",
    "totalmice_perdrug.plot.bar(xlabel=\"Drug Regimen\", \n",
    "                           ylabel=\"Number of Mice\", \n",
    "                           title=\"Number of Mice Per Drug Regimen\", \n",
    "                           figsize=(15, 3), \n",
    "                           color=\"lightblue\", \n",
    "                           rot=0)\n",
    "\n",
    "# Set a grid on the plot\n",
    "plt.grid(color=\"lightblue\")\n",
    "\n",
    "#set y limit\n",
    "plt.ylim(0,250)\n",
    "\n",
    "plt.show()"
   ]
  },
  {
   "cell_type": "code",
   "execution_count": 11,
   "metadata": {},
   "outputs": [
    {
     "name": "stdout",
     "output_type": "stream",
     "text": [
      "['Capomulin', 'Ceftamin', 'Infubinol', 'Ketapril', 'Naftisol', 'Placebo', 'Propriva', 'Ramicane', 'Stelasyn', 'Zoniferol']\n"
     ]
    }
   ],
   "source": [
    "#sort drugs\n",
    "sorted_drugs = clean_data_df.sort_values(by='Drug Regimen', ascending=True,)\n",
    "\n",
    "#grab unique drugs and put into list\n",
    "drugs = (sorted_drugs[\"Drug Regimen\"].unique()).tolist()\n",
    "\n",
    "#show drug list\n",
    "print(drugs)"
   ]
  },
  {
   "cell_type": "code",
   "execution_count": 12,
   "metadata": {},
   "outputs": [
    {
     "data": {
      "text/plain": [
       "[230, 178, 178, 188, 186, 181, 156, 228, 181, 182]"
      ]
     },
     "execution_count": 12,
     "metadata": {},
     "output_type": "execute_result"
    }
   ],
   "source": [
    "#get number of mice and put into list\n",
    "mice = (clean_data_df.groupby([\"Drug Regimen\"])[\"Mouse ID\"].count()).tolist()\n",
    "\n",
    "#show mice list\n",
    "mice"
   ]
  },
  {
   "cell_type": "code",
   "execution_count": 13,
   "metadata": {},
   "outputs": [
    {
     "data": {
      "image/png": "[encoded data removed]",
      "text/plain": [
       "<Figure size 1080x216 with 1 Axes>"
      ]
     },
     "metadata": {
      "needs_background": "light"
     },
     "output_type": "display_data"
    }
   ],
   "source": [
    "# Generate a bar plot showing the total number of unique mice tested on each drug regimen using pyplot.\n",
    "plt.figure(figsize=(15,3))\n",
    "\n",
    "# Set a grid on the plot\n",
    "plt.grid(color=\"lightblue\")\n",
    "\n",
    "#bar plot\n",
    "plt.bar(drugs, mice, color=\"lightblue\", align=\"center\", width=.5)\n",
    "\n",
    "#title bar chart\n",
    "plt.title(\"Number of Mice Per Drug Regimen\")\n",
    "plt.xlabel(\"Drug Regimen\")\n",
    "plt.ylabel(\"Number of Mice\")\n",
    "\n",
    "#set y limit\n",
    "plt.ylim(0,250)\n",
    "\n",
    "#show bar chart\n",
    "plt.show()"
   ]
  },
  {
   "cell_type": "code",
   "execution_count": 14,
   "metadata": {},
   "outputs": [
    {
     "data": {
      "text/html": [
       "<div>\n",
       "<style scoped>\n",
       "    .dataframe tbody tr th:only-of-type {\n",
       "        vertical-align: middle;\n",
       "    }\n",
       "\n",
       "    .dataframe tbody tr th {\n",
       "        vertical-align: top;\n",
       "    }\n",
       "\n",
       "    .dataframe thead th {\n",
       "        text-align: right;\n",
       "    }\n",
       "</style>\n",
       "<table border=\"1\" class=\"dataframe\">\n",
       "  <thead>\n",
       "    <tr style=\"text-align: right;\">\n",
       "      <th></th>\n",
       "      <th>Sex</th>\n",
       "      <th>Total Count</th>\n",
       "      <th>Distribution</th>\n",
       "    </tr>\n",
       "  </thead>\n",
       "  <tbody>\n",
       "    <tr>\n",
       "      <th>0</th>\n",
       "      <td>Male</td>\n",
       "      <td>125</td>\n",
       "      <td>50.200803</td>\n",
       "    </tr>\n",
       "    <tr>\n",
       "      <th>1</th>\n",
       "      <td>Female</td>\n",
       "      <td>124</td>\n",
       "      <td>49.799197</td>\n",
       "    </tr>\n",
       "  </tbody>\n",
       "</table>\n",
       "</div>"
      ],
      "text/plain": [
       "      Sex  Total Count  Distribution\n",
       "0    Male          125     50.200803\n",
       "1  Female          124     49.799197"
      ]
     },
     "execution_count": 14,
     "metadata": {},
     "output_type": "execute_result"
    }
   ],
   "source": [
    "unique_sex = clean_data_df[\"Sex\"].unique()\n",
    "\n",
    "total_mice = clean_data_df[\"Mouse ID\"].nunique()\n",
    "\n",
    "total_female = clean_data_df.loc[clean_data_df['Sex']=='Female',:].nunique().iloc[0]\n",
    "\n",
    "total_male = clean_data_df.loc[clean_data_df['Sex']=='Male',:].nunique().iloc[0]\n",
    "\n",
    "perc_male = (total_male/total_mice) * 100\n",
    "\n",
    "perc_female = (total_female/total_mice) * 100\n",
    "\n",
    "gender_stats_df = pd.DataFrame({\"Sex\": unique_sex,\n",
    "                             \"Total Count\": [total_male, total_female],\n",
    "                             \"Distribution\": [perc_male, perc_female]\n",
    "                            })\n",
    "gender_stats_df"
   ]
  },
  {
   "cell_type": "code",
   "execution_count": 15,
   "metadata": {},
   "outputs": [
    {
     "data": {
      "image/png": "[encoded data removed]",
      "text/plain": [
       "<Figure size 432x288 with 1 Axes>"
      ]
     },
     "metadata": {},
     "output_type": "display_data"
    }
   ],
   "source": [
    "# Generate a pie plot showing the distribution of female versus male mice using pandas\n",
    "labels = (\"Male\", \"Female\")\n",
    "explode = (0.1,0)\n",
    "colors = (\"darkseagreen\", \"lightblue\")\n",
    "\n",
    "#pie chart\n",
    "gender_stats_df.plot.pie(y='Distribution', title='Distribution of Female vs Male Mice', ylabel=(''), labels=labels, explode=explode, colors=colors,\n",
    "        autopct=\"%1.1f%%\", shadow=True, startangle=140, legend=None)\n",
    "\n",
    "# Create axes which are equal so we have a perfect circle\n",
    "plt.axis(\"equal\")\n",
    "\n",
    "#show pie chart\n",
    "plt.show()"
   ]
  },
  {
   "cell_type": "code",
   "execution_count": 16,
   "metadata": {},
   "outputs": [
    {
     "data": {
      "image/png": "[encoded data removed]",
      "text/plain": [
       "<Figure size 432x288 with 1 Axes>"
      ]
     },
     "metadata": {},
     "output_type": "display_data"
    }
   ],
   "source": [
    "# Generate a pie plot showing the distribution of female versus male mice using pyplot\n",
    "\n",
    "#data for pie chart\n",
    "labels = (\"Male\", \"Female\")\n",
    "explode = (0.1,0)\n",
    "colors = (\"darkseagreen\", \"lightblue\")\n",
    "gender_data = gender_stats_df['Distribution']\n",
    "\n",
    "#pie chart\n",
    "plt.pie(gender_data, explode=explode, labels=labels, colors=colors,\n",
    "        autopct=\"%1.1f%%\", shadow=True, startangle=140)\n",
    "\n",
    "#title\n",
    "plt.title('Distribution of Female vs Male Mice')\n",
    "\n",
    "# create axes which are equal so we have a perfect circle\n",
    "plt.axis(\"equal\")\n",
    "\n",
    "#show pie chart\n",
    "plt.show()"
   ]
  },
  {
   "cell_type": "markdown",
   "metadata": {},
   "source": [
    "## Quartiles, Outliers and Boxplots"
   ]
  },
  {
   "cell_type": "code",
   "execution_count": 17,
   "metadata": {
    "scrolled": true
   },
   "outputs": [
    {
     "data": {
      "text/html": [
       "<div>\n",
       "<style scoped>\n",
       "    .dataframe tbody tr th:only-of-type {\n",
       "        vertical-align: middle;\n",
       "    }\n",
       "\n",
       "    .dataframe tbody tr th {\n",
       "        vertical-align: top;\n",
       "    }\n",
       "\n",
       "    .dataframe thead th {\n",
       "        text-align: right;\n",
       "    }\n",
       "</style>\n",
       "<table border=\"1\" class=\"dataframe\">\n",
       "  <thead>\n",
       "    <tr style=\"text-align: right;\">\n",
       "      <th></th>\n",
       "      <th>Mouse ID</th>\n",
       "      <th>Timepoint</th>\n",
       "      <th>Drug Regimen</th>\n",
       "      <th>Tumor Volume (mm3)</th>\n",
       "      <th>Weight (g)</th>\n",
       "    </tr>\n",
       "  </thead>\n",
       "  <tbody>\n",
       "    <tr>\n",
       "      <th>0</th>\n",
       "      <td>k403</td>\n",
       "      <td>0</td>\n",
       "      <td>Ramicane</td>\n",
       "      <td>45.000000</td>\n",
       "      <td>16</td>\n",
       "    </tr>\n",
       "    <tr>\n",
       "      <th>1</th>\n",
       "      <td>k403</td>\n",
       "      <td>5</td>\n",
       "      <td>Ramicane</td>\n",
       "      <td>38.825898</td>\n",
       "      <td>16</td>\n",
       "    </tr>\n",
       "    <tr>\n",
       "      <th>2</th>\n",
       "      <td>k403</td>\n",
       "      <td>10</td>\n",
       "      <td>Ramicane</td>\n",
       "      <td>35.014271</td>\n",
       "      <td>16</td>\n",
       "    </tr>\n",
       "    <tr>\n",
       "      <th>3</th>\n",
       "      <td>k403</td>\n",
       "      <td>15</td>\n",
       "      <td>Ramicane</td>\n",
       "      <td>34.223992</td>\n",
       "      <td>16</td>\n",
       "    </tr>\n",
       "    <tr>\n",
       "      <th>4</th>\n",
       "      <td>k403</td>\n",
       "      <td>20</td>\n",
       "      <td>Ramicane</td>\n",
       "      <td>32.997729</td>\n",
       "      <td>16</td>\n",
       "    </tr>\n",
       "  </tbody>\n",
       "</table>\n",
       "</div>"
      ],
      "text/plain": [
       "  Mouse ID  Timepoint Drug Regimen  Tumor Volume (mm3)  Weight (g)\n",
       "0     k403          0     Ramicane           45.000000          16\n",
       "1     k403          5     Ramicane           38.825898          16\n",
       "2     k403         10     Ramicane           35.014271          16\n",
       "3     k403         15     Ramicane           34.223992          16\n",
       "4     k403         20     Ramicane           32.997729          16"
      ]
     },
     "execution_count": 17,
     "metadata": {},
     "output_type": "execute_result"
    }
   ],
   "source": [
    "removed_columns_df = clean_data_df[[\"Mouse ID\", \"Timepoint\", \"Drug Regimen\",\n",
    "                            \"Tumor Volume (mm3)\", \"Weight (g)\"]]\n",
    "removed_columns_df.head()"
   ]
  },
  {
   "cell_type": "code",
   "execution_count": 18,
   "metadata": {
    "scrolled": false
   },
   "outputs": [
    {
     "data": {
      "text/html": [
       "<div>\n",
       "<style scoped>\n",
       "    .dataframe tbody tr th:only-of-type {\n",
       "        vertical-align: middle;\n",
       "    }\n",
       "\n",
       "    .dataframe tbody tr th {\n",
       "        vertical-align: top;\n",
       "    }\n",
       "\n",
       "    .dataframe thead th {\n",
       "        text-align: right;\n",
       "    }\n",
       "</style>\n",
       "<table border=\"1\" class=\"dataframe\">\n",
       "  <thead>\n",
       "    <tr style=\"text-align: right;\">\n",
       "      <th></th>\n",
       "      <th>Mouse ID</th>\n",
       "      <th>Timepoint</th>\n",
       "      <th>Drug Regimen</th>\n",
       "      <th>Weight (g)</th>\n",
       "      <th>Tumor Volume (mm3)</th>\n",
       "    </tr>\n",
       "  </thead>\n",
       "  <tbody>\n",
       "    <tr>\n",
       "      <th>0</th>\n",
       "      <td>a203</td>\n",
       "      <td>45</td>\n",
       "      <td>Infubinol</td>\n",
       "      <td>23</td>\n",
       "      <td>67.973419</td>\n",
       "    </tr>\n",
       "    <tr>\n",
       "      <th>1</th>\n",
       "      <td>a251</td>\n",
       "      <td>45</td>\n",
       "      <td>Infubinol</td>\n",
       "      <td>25</td>\n",
       "      <td>65.525743</td>\n",
       "    </tr>\n",
       "    <tr>\n",
       "      <th>2</th>\n",
       "      <td>a275</td>\n",
       "      <td>45</td>\n",
       "      <td>Ceftamin</td>\n",
       "      <td>28</td>\n",
       "      <td>62.999356</td>\n",
       "    </tr>\n",
       "    <tr>\n",
       "      <th>3</th>\n",
       "      <td>a411</td>\n",
       "      <td>45</td>\n",
       "      <td>Ramicane</td>\n",
       "      <td>22</td>\n",
       "      <td>38.407618</td>\n",
       "    </tr>\n",
       "    <tr>\n",
       "      <th>4</th>\n",
       "      <td>a444</td>\n",
       "      <td>45</td>\n",
       "      <td>Ramicane</td>\n",
       "      <td>25</td>\n",
       "      <td>43.047543</td>\n",
       "    </tr>\n",
       "  </tbody>\n",
       "</table>\n",
       "</div>"
      ],
      "text/plain": [
       "  Mouse ID  Timepoint Drug Regimen  Weight (g)  Tumor Volume (mm3)\n",
       "0     a203         45    Infubinol          23           67.973419\n",
       "1     a251         45    Infubinol          25           65.525743\n",
       "2     a275         45     Ceftamin          28           62.999356\n",
       "3     a411         45     Ramicane          22           38.407618\n",
       "4     a444         45     Ramicane          25           43.047543"
      ]
     },
     "execution_count": 18,
     "metadata": {},
     "output_type": "execute_result"
    }
   ],
   "source": [
    "# Calculate the final tumor volume of each mouse across four of the treatment regimens:  \n",
    "# Capomulin, Ramicane, Infubinol, and Ceftamin\n",
    "certain_drugs = removed_columns_df.loc[(removed_columns_df['Drug Regimen']=='Capomulin') | \n",
    "                                  (removed_columns_df['Drug Regimen']=='Ramicane') | \n",
    "                                  (removed_columns_df['Drug Regimen']=='Infubinol') | \n",
    "                                  (removed_columns_df['Drug Regimen']=='Ceftamin'), :]\n",
    "\n",
    "# Start by getting the last (greatest) timepoint for each mouse\n",
    "groupby_timepoint_df = removed_columns_df.groupby([\"Mouse ID\"]).max()\n",
    "\n",
    "# Merge this group df with the original dataframe to get the tumor volume at the last timepoint\n",
    "combined_drug_df = pd.merge(groupby_timepoint_df, certain_drugs, on=[\"Mouse ID\", \"Timepoint\", \"Weight (g)\", \"Drug Regimen\"])\n",
    "\n",
    "#drop tumor volume y\n",
    "del combined_drug_df['Tumor Volume (mm3)_x']\n",
    "\n",
    "#rename tumor volume x\n",
    "combined_drug_df = combined_drug_df.rename(columns={\"Tumor Volume (mm3)_y\": \"Tumor Volume (mm3)\"})\n",
    "\n",
    "#show sample of data table \n",
    "combined_drug_df.head()"
   ]
  },
  {
   "cell_type": "code",
   "execution_count": 19,
   "metadata": {},
   "outputs": [],
   "source": [
    "# Put treatments into a list for for loop (and later for plot labels)\n",
    "drug_treatments = [\"Capomulin\", \"Ceftamin\", \"Ramicane\", \"Infubinol\"]\n",
    "# add subset "
   ]
  },
  {
   "cell_type": "code",
   "execution_count": 20,
   "metadata": {},
   "outputs": [
    {
     "name": "stdout",
     "output_type": "stream",
     "text": [
      "The lower quartile of the tumor volumes for Capomulin is: 32.38\n",
      "The upper quartile of the tumor volumes for Capomulin is: 40.16\n",
      "The interquartile range of the tumor volumes for Capomulin is: 7.78\n",
      "The median of the tumor volumes for Capomulin is: 38.13 \n",
      "Values below 20.7 could be outliers.\n",
      "Values above 51.83 could be outliers.\n"
     ]
    }
   ],
   "source": [
    "# Locate the rows which contain mice on Capomulin and get the tumor volumes\n",
    "capomulin_data = combined_drug_df.loc[(combined_drug_df['Drug Regimen']=='Capomulin'), :]\n",
    "#capomulin_data \n",
    "capomulin_vol = capomulin_data[\"Tumor Volume (mm3)\"]\n",
    "\n",
    "# Calculate the IQR and quantitatively determine if there are any potential outliers. \n",
    "capomulin_quartiles = capomulin_vol.quantile([.25,.5,.75])\n",
    "capomulin_lowerq = capomulin_quartiles[0.25]\n",
    "capomulin_upperq = capomulin_quartiles[0.75]\n",
    "capomulin_iqr = capomulin_upperq-capomulin_lowerq\n",
    "\n",
    "print(f\"The lower quartile of the tumor volumes for Capomulin is: {round(capomulin_lowerq,2)}\")\n",
    "print(f\"The upper quartile of the tumor volumes for Capomulin is: {round(capomulin_upperq,2)}\")\n",
    "print(f\"The interquartile range of the tumor volumes for Capomulin is: {round(capomulin_iqr,2)}\")\n",
    "print(f\"The median of the tumor volumes for Capomulin is: {round(capomulin_quartiles[0.5],2)} \")\n",
    "\n",
    "# Determine outliers using upper and lower bounds\n",
    "capomulin_lower_bound = capomulin_lowerq - (1.5*capomulin_iqr)\n",
    "capomulin_upper_bound = capomulin_upperq + (1.5*capomulin_iqr)\n",
    "print(f\"Values below {round(capomulin_lower_bound,2)} could be outliers.\")\n",
    "print(f\"Values above {round(capomulin_upper_bound,2)} could be outliers.\")"
   ]
  },
  {
   "cell_type": "code",
   "execution_count": 21,
   "metadata": {
    "scrolled": true
   },
   "outputs": [
    {
     "name": "stdout",
     "output_type": "stream",
     "text": [
      "The lower quartile of the tumor volumes for Ceftamin is: 48.72\n",
      "The upper quartile of the tumor volumes for Ceftamin is: 64.3\n",
      "The interquartile range of the tumor volumes for Ceftamin is: 15.58\n",
      "The median of the tumor volumes for Ceftamin is: 59.85 \n",
      "Values below 25.36 could be outliers.\n",
      "Values above 87.67 could be outliers.\n"
     ]
    }
   ],
   "source": [
    "# Locate the rows which contain mice on Ceftamin and get the tumor volumes\n",
    "ceftamin_data = combined_drug_df.loc[(combined_drug_df['Drug Regimen']=='Ceftamin'), :]\n",
    "#ceftamin_data \n",
    "ceftamin_vol = ceftamin_data[\"Tumor Volume (mm3)\"]\n",
    "\n",
    "# Calculate the IQR and quantitatively determine if there are any potential outliers. \n",
    "ceftamin_quartiles = ceftamin_vol.quantile([.25,.5,.75])\n",
    "ceftamin_lowerq = ceftamin_quartiles[0.25]\n",
    "ceftamin_upperq = ceftamin_quartiles[0.75]\n",
    "ceftamin_iqr = ceftamin_upperq-ceftamin_lowerq\n",
    "\n",
    "print(f\"The lower quartile of the tumor volumes for Ceftamin is: {round(ceftamin_lowerq,2)}\")\n",
    "print(f\"The upper quartile of the tumor volumes for Ceftamin is: {round(ceftamin_upperq,2)}\")\n",
    "print(f\"The interquartile range of the tumor volumes for Ceftamin is: {round(ceftamin_iqr,2)}\")\n",
    "print(f\"The median of the tumor volumes for Ceftamin is: {round(ceftamin_quartiles[0.5],2)} \")\n",
    "\n",
    "# Determine outliers using upper and lower bounds\n",
    "ceftamin_lower_bound = ceftamin_lowerq - (1.5*ceftamin_iqr)\n",
    "ceftamin_upper_bound = ceftamin_upperq + (1.5*ceftamin_iqr)\n",
    "print(f\"Values below {round(ceftamin_lower_bound,2)} could be outliers.\")\n",
    "print(f\"Values above {round(ceftamin_upper_bound,2)} could be outliers.\")"
   ]
  },
  {
   "cell_type": "code",
   "execution_count": 22,
   "metadata": {
    "scrolled": true
   },
   "outputs": [
    {
     "name": "stdout",
     "output_type": "stream",
     "text": [
      "The lower quartile of the tumor volumes for Ramicane is: 31.56\n",
      "The upper quartile of the tumor volumes for Ramicane is: 40.66\n",
      "The interquartile range of the tumor volumes for Ramicane is: 9.1\n",
      "The median of the tumor volumes for Ramicane is: 36.56 \n",
      "Values below 17.91 could be outliers.\n",
      "Values above 54.31 could be outliers.\n"
     ]
    }
   ],
   "source": [
    "# Locate the rows which contain mice on Ramicane and get the tumor volumes\n",
    "ramicane_data = combined_drug_df.loc[(combined_drug_df['Drug Regimen']=='Ramicane'), :]\n",
    "#ramicane_data \n",
    "ramicane_vol = ramicane_data[\"Tumor Volume (mm3)\"]\n",
    "\n",
    "# Calculate the IQR and quantitatively determine if there are any potential outliers. \n",
    "ramicane_quartiles = ramicane_vol.quantile([.25,.5,.75])\n",
    "ramicane_lowerq = ramicane_quartiles[0.25]\n",
    "ramicane_upperq = ramicane_quartiles[0.75]\n",
    "ramicane_iqr = ramicane_upperq-ramicane_lowerq\n",
    "\n",
    "print(f\"The lower quartile of the tumor volumes for Ramicane is: {round(ramicane_lowerq,2)}\")\n",
    "print(f\"The upper quartile of the tumor volumes for Ramicane is: {round(ramicane_upperq,2)}\")\n",
    "print(f\"The interquartile range of the tumor volumes for Ramicane is: {round(ramicane_iqr,2)}\")\n",
    "print(f\"The median of the tumor volumes for Ramicane is: {round(ramicane_quartiles[0.5],2)} \")\n",
    "\n",
    "# Determine outliers using upper and lower bounds\n",
    "ramicane_lower_bound = ramicane_lowerq - (1.5*ramicane_iqr)\n",
    "ramicane_upper_bound = ramicane_upperq + (1.5*ramicane_iqr)\n",
    "print(f\"Values below {round(ramicane_lower_bound,2)} could be outliers.\")\n",
    "print(f\"Values above {round(ramicane_upper_bound,2)} could be outliers.\")"
   ]
  },
  {
   "cell_type": "code",
   "execution_count": 23,
   "metadata": {
    "scrolled": true
   },
   "outputs": [
    {
     "name": "stdout",
     "output_type": "stream",
     "text": [
      "The lower quartile of the tumor volumes for Infubinol is: 54.05\n",
      "The upper quartile of the tumor volumes for Infubinol is: 65.53\n",
      "The interquartile range of the tumor volumes for Infubinol is: 11.48\n",
      "The median of the tumor volumes for Infubinol is: 60.17 \n",
      "Values below 36.83 could be outliers.\n",
      "Values above 82.74 could be outliers.\n"
     ]
    }
   ],
   "source": [
    "# Locate the rows which contain mice on Infubinol and get the tumor volumes\n",
    "infubinol_data = combined_drug_df.loc[(combined_drug_df['Drug Regimen']=='Infubinol'), :]\n",
    "#infubinol_data \n",
    "infubinol_vol = infubinol_data[\"Tumor Volume (mm3)\"]\n",
    "\n",
    "# Calculate the IQR and quantitatively determine if there are any potential outliers. \n",
    "infubinol_quartiles = infubinol_vol.quantile([.25,.5,.75])\n",
    "infubinol_lowerq = infubinol_quartiles[0.25]\n",
    "infubinol_upperq = infubinol_quartiles[0.75]\n",
    "infubinol_iqr = infubinol_upperq-infubinol_lowerq\n",
    "\n",
    "print(f\"The lower quartile of the tumor volumes for Infubinol is: {round(infubinol_lowerq,2)}\")\n",
    "print(f\"The upper quartile of the tumor volumes for Infubinol is: {round(infubinol_upperq,2)}\")\n",
    "print(f\"The interquartile range of the tumor volumes for Infubinol is: {round(infubinol_iqr,2)}\")\n",
    "print(f\"The median of the tumor volumes for Infubinol is: {round(infubinol_quartiles[0.5],2)} \")\n",
    "\n",
    "# Determine outliers using upper and lower bounds\n",
    "infubinol_lower_bound = infubinol_lowerq - (1.5*infubinol_iqr)\n",
    "infubinol_upper_bound = infubinol_upperq + (1.5*infubinol_iqr)\n",
    "print(f\"Values below {round(infubinol_lower_bound,2)} could be outliers.\")\n",
    "print(f\"Values above {round(infubinol_upper_bound,2)} could be outliers.\")"
   ]
  },
  {
   "cell_type": "code",
   "execution_count": 24,
   "metadata": {},
   "outputs": [],
   "source": [
    "# Create empty list to fill with tumor vol data (for plotting)\n",
    "tumor_vol_data = [capomulin_vol, ceftamin_vol, ramicane_vol, infubinol_vol]"
   ]
  },
  {
   "cell_type": "code",
   "execution_count": 25,
   "metadata": {
    "scrolled": false
   },
   "outputs": [
    {
     "data": {
      "image/png": "[encoded data removed]",
      "text/plain": [
       "<Figure size 720x576 with 1 Axes>"
      ]
     },
     "metadata": {
      "needs_background": "light"
     },
     "output_type": "display_data"
    }
   ],
   "source": [
    "# Generate a box plot of the final tumor volume of each mouse across four regimens of interest\n",
    "fig, ax1 = plt.subplots(figsize=(10, 8))\n",
    "\n",
    "#titles\n",
    "ax1.set_title(\"Outliers for Final Tumor Volume Data in Comparison to Drug Regimen's of Interest\")\n",
    "ax1.set_ylabel('Final Tumor Volume (mm3)')\n",
    "ax1.set_xlabel('Drug Regimen')\n",
    "\n",
    "#marker styling\n",
    "flierprops = dict(marker='*', \n",
    "                  markersize=14, \n",
    "                  markerfacecolor='goldenrod',\n",
    "                  markeredgecolor='darkgoldenrod')\n",
    "\n",
    "#boxplot\n",
    "boxplot1 = ax1.boxplot(tumor_vol_data,\n",
    "            labels=drug_treatments,\n",
    "            patch_artist=True,\n",
    "            flierprops=flierprops,\n",
    "            notch=True\n",
    "                      )\n",
    "#colors\n",
    "colors = ['seagreen', 'lightblue', 'darkseagreen', 'cornflowerblue']\n",
    "for boxplot in (boxplot1):\n",
    "   for patch, color in zip(boxplot1['boxes'], colors):\n",
    "        patch.set_facecolor(color)\n",
    "plt.show()"
   ]
  },
  {
   "cell_type": "markdown",
   "metadata": {},
   "source": [
    "## Line and Scatter Plots"
   ]
  },
  {
   "cell_type": "code",
   "execution_count": 26,
   "metadata": {},
   "outputs": [
    {
     "data": {
      "image/png": "[encoded data removed]",
      "text/plain": [
       "<Figure size 720x504 with 1 Axes>"
      ]
     },
     "metadata": {
      "needs_background": "light"
     },
     "output_type": "display_data"
    }
   ],
   "source": [
    "# Generate a line plot of tumor volume vs. time point for a mouse treated with Capomulin\n",
    "capomulin_data = clean_data_df.loc[(clean_data_df['Drug Regimen']=='Capomulin'), :]\n",
    "\n",
    "#filter for a specific mouse\n",
    "capomulin_mouse = capomulin_data.loc[(capomulin_data['Mouse ID']=='s185'), :]\n",
    "capomulin_mouse\n",
    "\n",
    "# Reducing columns\n",
    "capomulin_mouse_df = capomulin_mouse[['Timepoint','Tumor Volume (mm3)']]\n",
    "capomulin_mouse_df\n",
    "\n",
    "#fig size\n",
    "plt.figure(figsize=(10,7))\n",
    "\n",
    "#xaxis data\n",
    "x_axis = []\n",
    "x_axis = capomulin_mouse_df[\"Timepoint\"].tolist()\n",
    "\n",
    "#yaxis data\n",
    "y_axis = []\n",
    "y_axis = capomulin_mouse_df[\"Tumor Volume (mm3)\"].tolist()\n",
    "\n",
    "#line plot\n",
    "plt.plot(x_axis, y_axis, marker ='*', color='darkgoldenrod', label=\"Mouse s185\")\n",
    "\n",
    "# Set a grid on the plot\n",
    "plt.grid(color=\"lightblue\")\n",
    "\n",
    " # Set our legend to where the chart thinks is best\n",
    "plt.legend(loc=\"best\")\n",
    "\n",
    "# titles\n",
    "plt.title('Tumor Volume (mm3) vs. Time Point for a Specific Mouse Treated with Capomulin')\n",
    "plt.xlabel('Timepoint')\n",
    "plt.ylabel('Tumor Volume (mm3)')\n",
    "plt.axis(\"equal\")\n",
    "\n",
    "plt.show()"
   ]
  },
  {
   "cell_type": "code",
   "execution_count": 27,
   "metadata": {
    "scrolled": false
   },
   "outputs": [
    {
     "data": {
      "text/html": [
       "<div>\n",
       "<style scoped>\n",
       "    .dataframe tbody tr th:only-of-type {\n",
       "        vertical-align: middle;\n",
       "    }\n",
       "\n",
       "    .dataframe tbody tr th {\n",
       "        vertical-align: top;\n",
       "    }\n",
       "\n",
       "    .dataframe thead th {\n",
       "        text-align: right;\n",
       "    }\n",
       "</style>\n",
       "<table border=\"1\" class=\"dataframe\">\n",
       "  <thead>\n",
       "    <tr style=\"text-align: right;\">\n",
       "      <th></th>\n",
       "      <th>Mouse ID</th>\n",
       "      <th>Drug Regimen</th>\n",
       "      <th>Weight (g)</th>\n",
       "      <th>Average Tumor Volume (mm3)</th>\n",
       "    </tr>\n",
       "  </thead>\n",
       "  <tbody>\n",
       "    <tr>\n",
       "      <th>0</th>\n",
       "      <td>s185</td>\n",
       "      <td>Capomulin</td>\n",
       "      <td>17</td>\n",
       "      <td>34.559143</td>\n",
       "    </tr>\n",
       "    <tr>\n",
       "      <th>10</th>\n",
       "      <td>x401</td>\n",
       "      <td>Capomulin</td>\n",
       "      <td>15</td>\n",
       "      <td>36.182040</td>\n",
       "    </tr>\n",
       "    <tr>\n",
       "      <th>20</th>\n",
       "      <td>m601</td>\n",
       "      <td>Capomulin</td>\n",
       "      <td>17</td>\n",
       "      <td>34.847470</td>\n",
       "    </tr>\n",
       "    <tr>\n",
       "      <th>30</th>\n",
       "      <td>f966</td>\n",
       "      <td>Capomulin</td>\n",
       "      <td>17</td>\n",
       "      <td>36.505973</td>\n",
       "    </tr>\n",
       "    <tr>\n",
       "      <th>35</th>\n",
       "      <td>u364</td>\n",
       "      <td>Capomulin</td>\n",
       "      <td>17</td>\n",
       "      <td>39.887495</td>\n",
       "    </tr>\n",
       "  </tbody>\n",
       "</table>\n",
       "</div>"
      ],
      "text/plain": [
       "   Mouse ID Drug Regimen  Weight (g)  Average Tumor Volume (mm3)\n",
       "0      s185    Capomulin          17                   34.559143\n",
       "10     x401    Capomulin          15                   36.182040\n",
       "20     m601    Capomulin          17                   34.847470\n",
       "30     f966    Capomulin          17                   36.505973\n",
       "35     u364    Capomulin          17                   39.887495"
      ]
     },
     "execution_count": 27,
     "metadata": {},
     "output_type": "execute_result"
    }
   ],
   "source": [
    "# Generate a scatter plot of average tumor volume vs. mouse weight for the Capomulin regimen\n",
    "\n",
    "#grab relevant columns from original clean df\n",
    "new_data = clean_data_df[[\"Mouse ID\", \"Drug Regimen\", \"Weight (g)\", \"Tumor Volume (mm3)\"]]\n",
    "\n",
    "#only data for capomulin\n",
    "capomulin_data = new_data.loc[(new_data['Drug Regimen']=='Capomulin'), :]\n",
    "\n",
    "# Calculate tumor volume average for each mouse:\n",
    "grouped_capomulin_df = clean_data_df.groupby([\"Mouse ID\"])[\"Tumor Volume (mm3)\"].mean()\n",
    "grouped_capomulin_df\n",
    "\n",
    "#merge two df's on mouse id\n",
    "combined_capomulin = pd.merge(capomulin_data, grouped_capomulin_df, on =[\"Mouse ID\"])\n",
    "combined_capomulin\n",
    "\n",
    "#drop tumor volume y\n",
    "del combined_capomulin['Tumor Volume (mm3)_x']\n",
    "\n",
    "#rename tumor volume x\n",
    "combined_capomulin = combined_capomulin.rename(columns={\"Tumor Volume (mm3)_y\": \"Average Tumor Volume (mm3)\"})\n",
    "\n",
    "#drop duplicates\n",
    "combined_capomulin = combined_capomulin.drop_duplicates(subset=['Mouse ID'])\n",
    "\n",
    "#show sample of data table \n",
    "combined_capomulin.head()"
   ]
  },
  {
   "cell_type": "code",
   "execution_count": 48,
   "metadata": {
    "scrolled": false
   },
   "outputs": [
    {
     "name": "stdout",
     "output_type": "stream",
     "text": [
      "Linear regression equation: y = 0.95x + 21.55\n"
     ]
    },
    {
     "data": {
      "image/png": "[encoded data removed]",
      "text/plain": [
       "<Figure size 432x288 with 1 Axes>"
      ]
     },
     "metadata": {
      "needs_background": "light"
     },
     "output_type": "display_data"
    }
   ],
   "source": [
    "#xaxis data\n",
    "xdata = combined_capomulin.iloc[:,2]\n",
    "\n",
    "#yaxis data\n",
    "ydata = combined_capomulin.iloc[:,3]\n",
    "\n",
    "#\n",
    "(slope, intercept, rvalue, pvalue, stderr) = linregress(xdata, ydata)\n",
    "regress_values = xdata * slope + intercept\n",
    "line_eq = \"y = \" + str(round(slope,2)) + \"x + \" + str(round(intercept,2))\n",
    "\n",
    "#scatter plot\n",
    "plt.scatter(xdata, \n",
    "            ydata, \n",
    "            marker=\"*\", \n",
    "            facecolors=\"darkseagreen\", \n",
    "            edgecolors=\"darkgreen\",\n",
    "            s=xdata,\n",
    "            alpha=0.75)\n",
    "\n",
    "plt.plot(xdata,regress_values,\"lightblue\")\n",
    "\n",
    "#print linear regression equation\n",
    "print(f'Linear regression equation: {line_eq}')\n",
    "\n",
    "# Create a title, x label, and y label for our chart\n",
    "plt.title(\"Average Tumor Volume (mm3) vs. Mouse Weight (g) for the Capomulin Regimen\")\n",
    "plt.xlabel(\"Weight (g)\")\n",
    "plt.ylabel(\"Average Tumor Volume (mm3)\")\n",
    "\n",
    "#set y limit\n",
    "plt.ylim(33,47)\n",
    "\n",
    "#show scatter plot\n",
    "plt.show()\n"
   ]
  },
  {
   "cell_type": "markdown",
   "metadata": {},
   "source": [
    "## Correlation and Regression"
   ]
  },
  {
   "cell_type": "code",
   "execution_count": 46,
   "metadata": {},
   "outputs": [
    {
     "name": "stdout",
     "output_type": "stream",
     "text": [
      "The correlation between mouse weight and average tumor volume for the Capomulin regimen is 0.84\n"
     ]
    }
   ],
   "source": [
    "# Calculate the correlation coefficient \n",
    "# for mouse weight and average tumor volume for the Capomulin regimen\n",
    "weight = combined_capomulin.iloc[:,2]\n",
    "volume = combined_capomulin.iloc[:,3]\n",
    "correlation = st.pearsonr(weight,volume)\n",
    "print(f\"The correlation between mouse weight and average tumor volume for the Capomulin regimen is {round(correlation[0],2)}\")"
   ]
  },
  {
   "cell_type": "code",
   "execution_count": null,
   "metadata": {},
   "outputs": [],
   "source": []
  }
 ],
 "metadata": {
  "anaconda-cloud": {},
  "kernelspec": {
   "display_name": "Python 3",
   "language": "python",
   "name": "python3"
  },
  "language_info": {
   "codemirror_mode": {
    "name": "ipython",
    "version": 3
   },
   "file_extension": ".py",
   "mimetype": "text/x-python",
   "name": "python",
   "nbconvert_exporter": "python",
   "pygments_lexer": "ipython3",
   "version": "3.8.5"
  }
 },
 "nbformat": 4,
 "nbformat_minor": 4
}
